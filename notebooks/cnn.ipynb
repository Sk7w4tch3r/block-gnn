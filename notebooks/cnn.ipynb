{
 "cells": [
  {
   "cell_type": "code",
   "execution_count": 1,
   "metadata": {},
   "outputs": [
    {
     "name": "stderr",
     "output_type": "stream",
     "text": [
      "/home/hesam/miniconda3/lib/python3.11/site-packages/torch/nn/modules/lazy.py:180: UserWarning: Lazy modules are a new feature under heavy development so changes to the API or functionality can happen at any moment.\n",
      "  warnings.warn('Lazy modules are a new feature under heavy development '\n"
     ]
    },
    {
     "data": {
      "text/plain": [
       "<All keys matched successfully>"
      ]
     },
     "execution_count": 1,
     "metadata": {},
     "output_type": "execute_result"
    }
   ],
   "source": [
    "import torch\n",
    "from cnn import CNN\n",
    "\n",
    "\n",
    "model = CNN(1, 10)\n",
    "model.load_state_dict(torch.load('../checkpoints/model.pth'))"
   ]
  },
  {
   "cell_type": "code",
   "execution_count": 135,
   "metadata": {},
   "outputs": [
    {
     "name": "stdout",
     "output_type": "stream",
     "text": [
      "conv.weight 288\n",
      "conv.bias 32\n",
      "fc.weight 11520\n",
      "fc.bias 10\n"
     ]
    }
   ],
   "source": [
    "# get number of learnable parameters\n",
    "for name, param in model.named_parameters():\n",
    "    if param.requires_grad:\n",
    "        print(name, param.numel())"
   ]
  },
  {
   "cell_type": "code",
   "execution_count": 2,
   "metadata": {},
   "outputs": [
    {
     "data": {
      "image/png": "[encoded data removed]",
      "text/plain": [
       "<Figure size 640x480 with 32 Axes>"
      ]
     },
     "metadata": {},
     "output_type": "display_data"
    }
   ],
   "source": [
    "import matplotlib.pyplot as plt\n",
    "\n",
    "\n",
    "for i in range(32):\n",
    "    plt.subplot(4, 8, i+1)\n",
    "    plt.imshow(model.conv.weight.data[i][0].numpy(), cmap='gray')\n",
    "    plt.axis('off')\n",
    "plt.show()"
   ]
  },
  {
   "cell_type": "code",
   "execution_count": 37,
   "metadata": {},
   "outputs": [
    {
     "data": {
      "image/png": "[encoded data removed]",
      "text/plain": [
       "<Figure size 640x480 with 1 Axes>"
      ]
     },
     "metadata": {},
     "output_type": "display_data"
    },
    {
     "data": {
      "text/plain": [
       "<matplotlib.image.AxesImage at 0x7dbc013e0550>"
      ]
     },
     "execution_count": 37,
     "metadata": {},
     "output_type": "execute_result"
    },
    {
     "data": {
      "image/png": "[encoded data removed]",
      "text/plain": [
       "<Figure size 640x480 with 1 Axes>"
      ]
     },
     "metadata": {},
     "output_type": "display_data"
    }
   ],
   "source": [
    "import torchvision\n",
    "from torchvision import transforms\n",
    "import scipy.signal as signal\n",
    "\n",
    "\n",
    "conv = torch.nn.Conv2d(1, 1, 3, stride=1)\n",
    "conv.weight.data = model.conv.weight.data[1]\n",
    "conv_kernel = conv.weight.data.squeeze().numpy()\n",
    "\n",
    "image_size = (8, 8)\n",
    "transform = transforms.Compose([transforms.ToTensor(), transforms.Normalize((0.1307,), (0.3081,)), transforms.Resize(image_size, antialias=True)])\n",
    "\n",
    "dataset     = torchvision.datasets.MNIST('data', train=False, download=True, transform=transform)\n",
    "image, _    = dataset[0]\n",
    "image = image.squeeze().numpy()\n",
    "\n",
    "\n",
    "plt.imshow(image, cmap='gray')\n",
    "plt.show()\n",
    "\n",
    "output = signal.convolve2d(image, conv_kernel, mode='same', fillvalue=0)\n",
    "plt.imshow(output, cmap='gray')"
   ]
  },
  {
   "cell_type": "code",
   "execution_count": 21,
   "metadata": {},
   "outputs": [],
   "source": [
    "# from torch.utils.data import DataLoader\n",
    "\n",
    "\n",
    "# dataset = torchvision.datasets.MNIST('./data', train=False, download=True, transform=transform)\n",
    "# loader = DataLoader(dataset, batch_size=32, shuffle=True)\n",
    "\n",
    "# model.eval()\n",
    "# model.cuda()\n",
    "\n",
    "# correct = 0\n",
    "# total = 0\n",
    "# with torch.no_grad():\n",
    "#     for image, label in loader:\n",
    "#         image = image.cuda()\n",
    "#         label = label.cuda()\n",
    "#         output = model(image)\n",
    "#         _, predicted = torch.max(output, 1)\n",
    "#         total += label.size(0)\n",
    "#         correct += (predicted == label).sum().item()\n",
    "#         break"
   ]
  },
  {
   "cell_type": "code",
   "execution_count": 22,
   "metadata": {},
   "outputs": [],
   "source": [
    "# import torch.nn.functional as F\n",
    "\n",
    "\n",
    "# sample = image[0]\n",
    "# plt.imshow(sample.cpu().numpy().squeeze(), cmap='gray')\n",
    "# plt.show()\n",
    "# out = model.conv(sample.unsqueeze(0))\n",
    "# print(out.size())\n",
    "# out = F.relu(out)\n",
    "# out = out.view(-1, out.size(1)*out.size(2)*out.size(3))\n",
    "# print(out.size())\n",
    "# out = model.fc(out)\n",
    "# print(out.size())\n",
    "# out = F.softmax(out, dim=1)\n",
    "# # out to probability\n",
    "\n",
    "# torch.argmax(out)\n",
    "# out = out.cpu().detach().numpy().squeeze()\n",
    "# plt.bar(range(10), out)\n",
    "# plt.show()"
   ]
  },
  {
   "cell_type": "code",
   "execution_count": 15,
   "metadata": {},
   "outputs": [
    {
     "data": {
      "text/plain": [
       "{4.0, 6.0, 9.0}"
      ]
     },
     "execution_count": 15,
     "metadata": {},
     "output_type": "execute_result"
    }
   ],
   "source": [
    "from utils import image_to_adj\n",
    "import numpy as np\n",
    "\n",
    "\n",
    "adj = image_to_adj(np.zeros((8, 8)))\n",
    "adj = np.array(adj)\n",
    "vals = [sum(adj[i]) for i in range(len(adj))]\n",
    "set(vals)"
   ]
  },
  {
   "cell_type": "code",
   "execution_count": 5,
   "metadata": {},
   "outputs": [
    {
     "data": {
      "text/plain": [
       "Parameter containing:\n",
       "tensor([-0.2275, -0.2925, -0.3112, -0.3395, -0.1875, -0.2947, -0.2062, -0.3511,\n",
       "        -0.0943, -0.1705, -0.0964, -0.1976, -0.2056, -0.0955, -0.5994,  0.0962,\n",
       "        -0.2289, -0.4609, -0.4333, -0.2400, -0.0641, -0.0715, -0.3015,  0.0425,\n",
       "        -0.0393, -0.3415, -0.1181, -0.5764, -0.2512, -0.2655, -0.5570, -0.0973],\n",
       "       requires_grad=True)"
      ]
     },
     "execution_count": 5,
     "metadata": {},
     "output_type": "execute_result"
    }
   ],
   "source": [
    "list(model.conv.parameters())[1]"
   ]
  },
  {
   "cell_type": "code",
   "execution_count": 16,
   "metadata": {},
   "outputs": [],
   "source": [
    "coeff = adj.copy()\n",
    "\n",
    "h, w = np.sqrt(adj.shape[0]).astype(int), np.sqrt(adj.shape[0]).astype(int)\n",
    "\n",
    "for i in range(w):\n",
    "    for j in range(h):\n",
    "        kernel_counter = 0\n",
    "        for ii in range(i-1, i+2):\n",
    "            for jj in range(j-1, j+2):\n",
    "                if 0 <= ii < w and 0 <= jj < h:\n",
    "                    coeff[i * h + j, ii * h + jj] = conv_kernel.flatten()[kernel_counter]\n",
    "                kernel_counter += 1"
   ]
  },
  {
   "cell_type": "code",
   "execution_count": 48,
   "metadata": {},
   "outputs": [
    {
     "name": "stdout",
     "output_type": "stream",
     "text": [
      "[[0.71350666 0.17612697 0.75112341]\n",
      " [0.59231997 0.16273123 0.71185024]\n",
      " [0.81141397 0.0360106  0.23194077]]\n",
      "tensor([0.0000, 0.7135, 0.1761, 0.7511, 0.0000, 0.5923, 0.1627, 0.7119, 0.0000,\n",
      "        0.8114, 0.0360, 0.2319, 0.0000, 0.0000, 0.0000, 0.0000])\n"
     ]
    }
   ],
   "source": [
    "image_size = 4\n",
    "temp_kernel = np.random.rand(3, 3)\n",
    "print(temp_kernel)\n",
    "a = image_to_adj(np.zeros((image_size, image_size)), temp_kernel)\n",
    "print(a[6])"
   ]
  },
  {
   "cell_type": "code",
   "execution_count": 10,
   "metadata": {},
   "outputs": [],
   "source": [
    "# w = 4\n",
    "# for i in range(w):\n",
    "#     for j in range(w):\n",
    "#         kernel_counter = 0\n",
    "#         for ii in range(i-1, i+2):\n",
    "#             for jj in range(j-1, j+2):\n",
    "#                 if 0 <= ii < w and 0 <= jj < w:\n",
    "#                     print(i * h + j, ii * h + jj)\n",
    "                    \n",
    "#                 kernel_counter += 1"
   ]
  },
  {
   "cell_type": "code",
   "execution_count": 41,
   "metadata": {},
   "outputs": [
    {
     "name": "stdout",
     "output_type": "stream",
     "text": [
      "[-5 -4 -3 -1  0  1  3  4  5]\n"
     ]
    },
    {
     "data": {
      "text/plain": [
       "<matplotlib.image.AxesImage at 0x7dbc014b13d0>"
      ]
     },
     "execution_count": 41,
     "metadata": {},
     "output_type": "execute_result"
    },
    {
     "data": {
      "image/png": "[encoded data removed]",
      "text/plain": [
       "<Figure size 640x480 with 1 Axes>"
      ]
     },
     "metadata": {},
     "output_type": "display_data"
    }
   ],
   "source": [
    "import numpy as np\n",
    "\n",
    "image_size = 4\n",
    "temp_kernel = np.random.rand(3, 3)\n",
    "a = image_to_adj(np.zeros((image_size, image_size)), temp_kernel)\n",
    "# a = a * np.random.rand(image_size**2, image_size**2)\n",
    "# set line width\n",
    "# plt.rcParams['lines.linewidth'] = 0.5\n",
    "# for i in range(image_size**2):\n",
    "#     for j in range(image_size**2):\n",
    "#         plt.axvline(i, 0, image_size**2, color='b')\n",
    "#         plt.axhline(j, 0, image_size**2, color='b')\n",
    "\n",
    "# for i in range(image_size**2):\n",
    "\n",
    "d = np.array([-1, 0, 1])\n",
    "left = d - image_size\n",
    "right = d + image_size\n",
    "d = np.append(left, d)\n",
    "d = np.append(d, right)\n",
    "print(d)\n",
    "for i in range(image_size**2):\n",
    "    for j in range(image_size):\n",
    "        if 0 <= i + d[j] < image_size**2 and 0 <= i - d[j] < image_size**2:\n",
    "            a[i, i+d[j]] = a[i, i-d[j]]\n",
    "\n",
    "    \n",
    "plt.imshow(a)"
   ]
  },
  {
   "cell_type": "code",
   "execution_count": 17,
   "metadata": {},
   "outputs": [
    {
     "data": {
      "text/plain": [
       "<matplotlib.image.AxesImage at 0x7dbc152e1a50>"
      ]
     },
     "execution_count": 17,
     "metadata": {},
     "output_type": "execute_result"
    },
    {
     "data": {
      "image/png": "[encoded data removed]",
      "text/plain": [
       "<Figure size 640x480 with 1 Axes>"
      ]
     },
     "metadata": {},
     "output_type": "display_data"
    }
   ],
   "source": [
    "plt.imshow(coeff)\n"
   ]
  },
  {
   "cell_type": "code",
   "execution_count": 27,
   "metadata": {},
   "outputs": [
    {
     "data": {
      "text/plain": [
       "torch.Size([64, 1])"
      ]
     },
     "execution_count": 27,
     "metadata": {},
     "output_type": "execute_result"
    }
   ],
   "source": [
    "torch.tensor(image.flatten()).unsqueeze(1).shape"
   ]
  },
  {
   "cell_type": "code",
   "execution_count": 171,
   "metadata": {},
   "outputs": [
    {
     "data": {
      "image/png": "[encoded data removed]",
      "text/plain": [
       "<Figure size 640x480 with 1 Axes>"
      ]
     },
     "metadata": {},
     "output_type": "display_data"
    },
    {
     "data": {
      "image/png": "[encoded data removed]",
      "text/plain": [
       "<Figure size 640x480 with 1 Axes>"
      ]
     },
     "metadata": {},
     "output_type": "display_data"
    },
    {
     "data": {
      "image/png": "[encoded data removed]",
      "text/plain": [
       "<Figure size 640x480 with 1 Axes>"
      ]
     },
     "metadata": {},
     "output_type": "display_data"
    },
    {
     "name": "stdout",
     "output_type": "stream",
     "text": [
      "the outputs are the same:  True\n",
      "Elapsed time for sparse csr matrix multiplication: 1.7281103134155275e-05\n",
      "Elapsed time for sparse coo matrix multiplication: 6.20732307434082e-06\n",
      "Elapsed time for convolution: 1.4697313308715821e-05\n",
      "sparse conv is 2.367737772417555 times faster than regular conv\n"
     ]
    }
   ],
   "source": [
    "# benchmark the time it takes to do the matrix multiplication for iters images\n",
    "import time\n",
    "import torch\n",
    "\n",
    "coeff_sparse = torch.tensor(coeff, dtype=torch.float32)\n",
    "i = torch.nonzero(coeff_sparse, as_tuple=False).T\n",
    "v = coeff_sparse[i[0], i[1]]\n",
    "coeff_coo_sparse = torch.sparse_coo_tensor(i, v, size=coeff_sparse.shape, requires_grad=True)\n",
    "# convert coo to csr\n",
    "coeff_csr_sparse = coeff_sparse.to_sparse_csr()\n",
    "\n",
    "\n",
    "image_torch = torch.tensor(image.flatten()).unsqueeze(1)\n",
    "\n",
    "iters = 10000\n",
    "\n",
    "\n",
    "# benchmark the time it takes to do the convolution for iters images\n",
    "image_torch = torch.tensor(image).unsqueeze(0).unsqueeze(0)\n",
    "torch_conv = torch.nn.Conv2d(1, 1, 3, stride=1, padding=1, bias=False)\n",
    "torch_conv.weight.data = torch.tensor(conv_kernel).unsqueeze(0).unsqueeze(0).float()\n",
    "start = time.time()\n",
    "for i in range(iters):\n",
    "    out = torch_conv(image_torch)\n",
    "elapsed = time.time() - start\n",
    "elapsed = elapsed / iters\n",
    "out = out.squeeze().detach().numpy()\n",
    "\n",
    "image_torch = torch.tensor(image.flatten()).unsqueeze(1)\n",
    "\n",
    "start = time.time()\n",
    "for i in range(iters):\n",
    "    sparse_out = torch.sparse.mm(coeff_csr_sparse, image_torch)\n",
    "    # out = out.numpy().reshape(8, 8)\n",
    "sparse_csr_elapsed = time.time() - start\n",
    "sparse_csr_elapsed = sparse_csr_elapsed / iters\n",
    "sparse_csr_out = sparse_out.detach().numpy().reshape(8, 8)\n",
    "plt.imshow(sparse_csr_out, cmap='gray')\n",
    "plt.show()\n",
    "\n",
    "start = time.time()\n",
    "for i in range(iters):\n",
    "    sparse_out = torch.sparse.mm(coeff_coo_sparse, image_torch)\n",
    "    # out = out.numpy().reshape(8, 8)\n",
    "sparse_coo_elapsed = time.time() - start\n",
    "sparse_coo_elapsed = sparse_coo_elapsed / iters\n",
    "sparse_coo_out = sparse_out.detach().numpy().reshape(8, 8)\n",
    "plt.imshow(sparse_coo_out, cmap='gray')\n",
    "plt.show()\n",
    "\n",
    "\n",
    "plt.imshow(out, cmap='gray')\n",
    "plt.show()\n",
    "print(\"the outputs are the same: \", np.allclose(sparse_csr_out, out))\n",
    "print(f'Elapsed time for sparse csr matrix multiplication: {sparse_csr_elapsed}')\n",
    "print(f'Elapsed time for sparse coo matrix multiplication: {sparse_coo_elapsed}')\n",
    "print(f'Elapsed time for convolution: {elapsed}')\n",
    "print(f'sparse conv is {elapsed/sparse_coo_elapsed} times faster than regular conv')"
   ]
  },
  {
   "cell_type": "code",
   "execution_count": null,
   "metadata": {},
   "outputs": [
    {
     "data": {
      "text/plain": [
       "Parameter containing:\n",
       "tensor([0.2651], requires_grad=True)"
      ]
     },
     "execution_count": 43,
     "metadata": {},
     "output_type": "execute_result"
    }
   ],
   "source": [
    "a = torch.nn.Conv2d(1, 1, 3, stride=1, padding=1)\n",
    "\n",
    "list(a.parameters())[1]"
   ]
  },
  {
   "cell_type": "markdown",
   "metadata": {},
   "source": []
  }
 ],
 "metadata": {
  "kernelspec": {
   "display_name": "Python 3",
   "language": "python",
   "name": "python3"
  },
  "language_info": {
   "codemirror_mode": {
    "name": "ipython",
    "version": 3
   },
   "file_extension": ".py",
   "mimetype": "text/x-python",
   "name": "python",
   "nbconvert_exporter": "python",
   "pygments_lexer": "ipython3",
   "version": "3.11.4"
  }
 },
 "nbformat": 4,
 "nbformat_minor": 2
}
