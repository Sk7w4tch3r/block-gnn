{
 "cells": [
  {
   "cell_type": "code",
   "execution_count": 3,
   "metadata": {},
   "outputs": [
    {
     "name": "stdout",
     "output_type": "stream",
     "text": [
      "loss: 0.2648853659629822\n",
      "loss: 0.31997302174568176\n"
     ]
    }
   ],
   "source": [
    "import torch\n",
    "import torch.nn.functional as F\n",
    "import torch.nn as nn\n",
    "\n",
    "import torchvision as tv\n",
    "from torch.utils.data import DataLoader\n",
    "from torchvision import transforms\n",
    "\n",
    "# set random seed\n",
    "torch.manual_seed(0)\n",
    "torch.cuda.manual_seed(0)\n",
    "\n",
    "\n",
    "class MaskedConv2d(nn.Module):\n",
    "    def __init__(self, n_in, n_out, filter_mask, pad = 0):\n",
    "        super().__init__()\n",
    "        self.kernel_size = 3\n",
    "        self.register_buffer('filter_mask', filter_mask)\n",
    "        self.conv = nn.Conv2d(\n",
    "            in_channels=n_in,\n",
    "            out_channels=n_out,\n",
    "            kernel_size=self.kernel_size,\n",
    "            stride=1,\n",
    "            bias=False,\n",
    "            padding = pad\n",
    "        )\n",
    "        \n",
    "        # self.conv.weight.data.fill_(1/torch.sum(torch.ones_like(self.filter_mask)))\n",
    "\n",
    "    \n",
    "    def forward(self, x):\n",
    "        self._mask_conv_filter()\n",
    "        return self.conv(x)\n",
    "    \n",
    "    \n",
    "    def _mask_conv_filter(self):\n",
    "        with torch.no_grad():\n",
    "            temp = self.conv.weight * self.filter_mask                \n",
    "            self.conv.weight.data = temp\n",
    "\n",
    "\n",
    "class LabCNN(nn.Module):\n",
    "    def __init__(self, fin, n_classes, mask) -> None:\n",
    "        super(LabCNN, self).__init__()\n",
    "\n",
    "        self.in_channels = fin\n",
    "        self.n_classes = n_classes\n",
    "\n",
    "        self.conv = MaskedConv2d(fin, 8, mask)\n",
    "        self.fc = nn.LazyLinear(n_classes)\n",
    "\n",
    "\n",
    "    def forward(self, x):\n",
    "        x = F.relu(self.conv(x))\n",
    "        x = x.view(-1, x.size(1)*x.size(2)*x.size(3))\n",
    "        x = self.fc(x)\n",
    "        return F.log_softmax(x, dim=1)\n",
    "    \n",
    "\n",
    "    def __repr__(self):\n",
    "        return self.__class__.__name__ + ' (' \\\n",
    "               + str(self.in_channels) + ' -> ' \\\n",
    "               + str(self.n_classes) + ')'\n",
    "\n",
    "device = torch.device('cuda' if torch.cuda.is_available() else 'cpu')\n",
    "\n",
    "image_size = (8, 8)\n",
    "\n",
    "transform = transforms.Compose([transforms.ToTensor(), transforms.Normalize((0.1307,), (0.3081,)), transforms.Resize(image_size, antialias=True)])\n",
    "dataset = tv.datasets.MNIST('./data', train=True, download=True, transform=transform)\n",
    "loader = DataLoader(dataset, batch_size=32, shuffle=True)\n",
    "\n",
    "\n",
    "mask = torch.tensor([[[\n",
    "    [0., 0., 0.],\n",
    "    [0., 1., 0.],\n",
    "    [0., 0., 0.]\n",
    "    ]]])\n",
    "\n",
    "model = LabCNN(1, 10, mask)\n",
    "model.cuda()\n",
    "\n",
    "\n",
    "criteria = nn.CrossEntropyLoss()\n",
    "optimizer = torch.optim.Adam(model.parameters(), lr=0.001)\n",
    "\n",
    "for i in range(2):\n",
    "    for image, label in loader:\n",
    "        image = image.cuda()\n",
    "        label = label.cuda()\n",
    "        optimizer.zero_grad()\n",
    "        output = model(image)\n",
    "        loss = criteria(output, label)\n",
    "        loss.backward()\n",
    "        optimizer.step()\n",
    "    print(f'loss: {loss.item()}')\n",
    "model.conv._mask_conv_filter()"
   ]
  },
  {
   "cell_type": "code",
   "execution_count": 4,
   "metadata": {},
   "outputs": [
    {
     "data": {
      "text/plain": [
       "tensor([[ 0.0000, -0.0000, -0.0000],\n",
       "        [ 0.0000, -1.1968, -0.0000],\n",
       "        [-0.0000, -0.0000,  0.0000]], device='cuda:0',\n",
       "       grad_fn=<SelectBackward0>)"
      ]
     },
     "execution_count": 4,
     "metadata": {},
     "output_type": "execute_result"
    }
   ],
   "source": [
    "model.conv.conv.weight[0, 0]"
   ]
  },
  {
   "cell_type": "code",
   "execution_count": 5,
   "metadata": {},
   "outputs": [],
   "source": [
    "import torch\n",
    "import torchvision\n",
    "import matplotlib.pyplot as plt\n",
    "from gcn.layers import GCLayer\n",
    "\n",
    "\n",
    "batch_size = 7\n",
    "in_channels = 3\n",
    "out_channels = 4\n",
    "image_size = 4\n",
    "\n",
    "image = torch.eye(image_size)\n",
    "image = torch.stack([image for _ in range(in_channels)])\n",
    "image = torch.stack([image for _ in range(batch_size)])\n",
    "\n",
    "# image = torch.rand(batch_size, in_channels, image_size, image_size)\n",
    "\n",
    "gcn = GCLayer(image_size, in_channels, out_channels, False)\n",
    "\n",
    "out = gcn(image)"
   ]
  },
  {
   "cell_type": "code",
   "execution_count": 15,
   "metadata": {},
   "outputs": [],
   "source": [
    "image = torch.eye(4)\n",
    "\n",
    "# image = torch.rand(1, 3, 4, 4)\n",
    "# image = image.view(image.size(0), image.size(1), -1, 1)\n",
    "\n",
    "weight = torch.ones(16, 16) * gcn.adj\n",
    "out = torch.matmul(gcn.adj, image.view(16, 1))"
   ]
  },
  {
   "cell_type": "code",
   "execution_count": 16,
   "metadata": {},
   "outputs": [
    {
     "data": {
      "text/plain": [
       "<matplotlib.image.AxesImage at 0x7dd1f891ae60>"
      ]
     },
     "execution_count": 16,
     "metadata": {},
     "output_type": "execute_result"
    },
    {
     "data": {
      "image/png": "[encoded data removed]",
      "text/plain": [
       "<Figure size 640x480 with 1 Axes>"
      ]
     },
     "metadata": {},
     "output_type": "display_data"
    }
   ],
   "source": [
    "plt.imshow(out.view(4, 4).detach().numpy())"
   ]
  },
  {
   "cell_type": "code",
   "execution_count": 4,
   "metadata": {},
   "outputs": [
    {
     "data": {
      "text/plain": [
       "<matplotlib.image.AxesImage at 0x7208b7e96380>"
      ]
     },
     "execution_count": 4,
     "metadata": {},
     "output_type": "execute_result"
    },
    {
     "data": {
      "image/png": "[encoded data removed]",
      "text/plain": [
       "<Figure size 640x480 with 1 Axes>"
      ]
     },
     "metadata": {},
     "output_type": "display_data"
    }
   ],
   "source": [
    "import torch\n",
    "import torch.nn as nn\n",
    "\n",
    "\n",
    "image = torch.eye(5)\n",
    "conv = torch.nn.Conv2d(1, 1, 3, padding=1, bias=False)\n",
    "conv_filter = torch.tensor([[[[-1, 0, 1], [-1, 0, 1], [-1, 0, 1]]]], dtype=torch.float32)\n",
    "conv.weight.data = nn.Parameter(conv_filter.view(1, 1, 3, 3))\n",
    "image = image.view(1, 1, 5, 5)\n",
    "out = conv(image)\n",
    "plt.imshow(out[0, 0].detach().numpy().reshape(5, 5))"
   ]
  },
  {
   "cell_type": "code",
   "execution_count": 2,
   "metadata": {},
   "outputs": [
    {
     "name": "stderr",
     "output_type": "stream",
     "text": [
      "/home/hesam/.local/lib/python3.10/site-packages/torch/nn/modules/lazy.py:180: UserWarning: Lazy modules are a new feature under heavy development so changes to the API or functionality can happen at any moment.\n",
      "  warnings.warn('Lazy modules are a new feature under heavy development '\n"
     ]
    },
    {
     "data": {
      "image/png": "[encoded data removed]",
      "text/plain": [
       "<Figure size 640x480 with 1 Axes>"
      ]
     },
     "metadata": {},
     "output_type": "display_data"
    },
    {
     "name": "stdout",
     "output_type": "stream",
     "text": [
      "loss: 0.29355746507644653, accuracy: 85.27666666666667%, time: 305.92234468460083\n",
      "loss: 0.3675607442855835, accuracy: 87.39416666666666%, time: 302.1028845310211\n",
      "loss: 0.18709446489810944, accuracy: 88.51555555555557%, time: 298.3787133693695\n",
      "loss: 0.1068539097905159, accuracy: 89.2325%, time: 298.3287181854248\n",
      "loss: 0.11090225726366043, accuracy: 89.74600000000001%, time: 298.1383743286133\n",
      "loss: 0.12855130434036255, accuracy: 90.13194444444444%, time: 298.32515716552734\n",
      "loss: 0.2611790597438812, accuracy: 90.44166666666666%, time: 299.00697445869446\n",
      "loss: 0.4203495681285858, accuracy: 90.69874999999999%, time: 297.1197166442871\n",
      "loss: 0.24590766429901123, accuracy: 90.91425925925925%, time: 303.4477138519287\n",
      "loss: 0.09750469028949738, accuracy: 91.11766666666666%, time: 301.7707431316376\n",
      "loss: 0.06143748387694359, accuracy: 91.2769696969697%, time: 301.59337186813354\n",
      "loss: 0.30521827936172485, accuracy: 91.41444444444444%, time: 300.8153989315033\n",
      "loss: 0.23127791285514832, accuracy: 91.55935897435897%, time: 303.03359270095825\n",
      "loss: 0.09907334297895432, accuracy: 91.6772619047619%, time: 298.69120717048645\n",
      "loss: 0.43498751521110535, accuracy: 91.79555555555555%, time: 298.57579731941223\n",
      "loss: 0.13244658708572388, accuracy: 91.9109375%, time: 298.98791432380676\n",
      "loss: 0.18603357672691345, accuracy: 92.01%, time: 298.82576084136963\n",
      "loss: 0.10411829501390457, accuracy: 92.09814814814816%, time: 298.15945959091187\n",
      "loss: 0.21701034903526306, accuracy: 92.18131578947369%, time: 299.28628611564636\n",
      "loss: 0.05981038883328438, accuracy: 92.26283333333333%, time: 298.93625688552856\n",
      "Accuracy: 94.17999999999999%\n"
     ]
    },
    {
     "data": {
      "image/png": "[encoded data removed]",
      "text/plain": [
       "<Figure size 640x480 with 1 Axes>"
      ]
     },
     "metadata": {},
     "output_type": "display_data"
    },
    {
     "name": "stdout",
     "output_type": "stream",
     "text": [
      "True\n"
     ]
    }
   ],
   "source": [
    "import time\n",
    "import torch\n",
    "import torch.nn as nn\n",
    "import torchvision as tv\n",
    "from torchvision import datasets, transforms\n",
    "from torch.utils.data import DataLoader, default_collate\n",
    "import matplotlib.pyplot as plt\n",
    "import numpy as np\n",
    "import random\n",
    "from gcn.gnn import SparseCNN\n",
    "import os\n",
    "\n",
    "\n",
    "# set random seed\n",
    "random.seed(0)\n",
    "torch.manual_seed(0)\n",
    "torch.cuda.manual_seed(0)\n",
    "\n",
    "\n",
    "device = torch.device('cuda' if torch.cuda.is_available() else 'cpu')\n",
    "\n",
    "image_size = (8, 8)\n",
    "\n",
    "transform = transforms.Compose([transforms.ToTensor(), transforms.Normalize((0.1307,), (0.3081,)), transforms.Resize(image_size, antialias=True)])\n",
    "dataset = tv.datasets.MNIST('./data', train=True, download=True, transform=transform)\n",
    "loader = DataLoader(dataset, batch_size=32, shuffle=True)\n",
    "\n",
    "\n",
    "model = SparseCNN(1, 10)\n",
    "\n",
    "if torch.cuda.is_available():\n",
    "    model.cuda()\n",
    "\n",
    "if os.path.exists(f'sparse_model_{image_size[0]}.pth'):\n",
    "    model.load_state_dict(torch.load(f'sparse_model_{image_size[0]}.pth'))\n",
    "\n",
    "criteria = nn.CrossEntropyLoss()\n",
    "optimizer = torch.optim.Adam(model.parameters(), lr=0.001)\n",
    "temp = model.conv.weight[0, 0].detach().cpu().numpy()\n",
    "plt.imshow(model.conv.weight[0, 0].detach().cpu().numpy())\n",
    "plt.show()\n",
    "\n",
    "total = 0\n",
    "correct = 0\n",
    "best_loss = 100\n",
    "for i in range(20):\n",
    "    start = time.time()\n",
    "\n",
    "    for image, label in loader:\n",
    "        image = image.cuda()\n",
    "        label = label.cuda()\n",
    "        optimizer.zero_grad()\n",
    "        output = model(image)\n",
    "        loss = criteria(output, label)\n",
    "        loss.backward()\n",
    "        optimizer.step()\n",
    "        _, predicted = torch.max(output, 1)\n",
    "        total += label.size(0)\n",
    "        correct += (predicted == label).sum().item()\n",
    "    if loss.item() < best_loss:\n",
    "        best_loss = loss.item()\n",
    "        torch.save(model.state_dict(), f'sparse_model_{image_size[0]}.pth')\n",
    "    print(f'loss: {loss.item()}, accuracy: {correct/total*100}%, time: {time.time()-start}')\n",
    "\n",
    "\n",
    "dataset = tv.datasets.MNIST('./data', train=False, download=True, transform=transform)\n",
    "loader = DataLoader(dataset, batch_size=32, shuffle=True)\n",
    "\n",
    "model.eval()\n",
    "\n",
    "correct = 0\n",
    "total = 0\n",
    "with torch.no_grad():\n",
    "    for image, label in loader:\n",
    "        image = image.cuda()\n",
    "        label = label.cuda()\n",
    "        output = model(image)\n",
    "        _, predicted = torch.max(output, 1)\n",
    "        total += label.size(0)\n",
    "        correct += (predicted == label).sum().item()\n",
    "\n",
    "print(f'Accuracy: {correct/total*100}%')\n",
    "plt.imshow(model.conv.weight[0, 0].detach().cpu().numpy())\n",
    "plt.show()\n",
    "\n",
    "print(np.allclose(temp, model.conv.weight[0, 0].detach().cpu().numpy()))\n",
    "\n",
    "# save model\n",
    "torch.save(model.state_dict(), 'sparse_model.pth')"
   ]
  },
  {
   "cell_type": "code",
   "execution_count": 9,
   "metadata": {},
   "outputs": [
    {
     "data": {
      "image/png": "[encoded data removed]",
      "text/plain": [
       "<Figure size 640x480 with 32 Axes>"
      ]
     },
     "metadata": {},
     "output_type": "display_data"
    }
   ],
   "source": [
    "for i in range(32):\n",
    "    temp = model.conv.weight[i, 0].detach().cpu()[10].numpy()\n",
    "    temp = temp[temp != 0]\n",
    "    plt.subplot(4, 8, i+1)\n",
    "    plt.imshow(temp.reshape(3,3), cmap='gray')\n",
    "    plt.axis('off')\n",
    "plt.show()"
   ]
  },
  {
   "cell_type": "code",
   "execution_count": 15,
   "metadata": {},
   "outputs": [
    {
     "name": "stdout",
     "output_type": "stream",
     "text": [
      "conv.kernel 288\n",
      "conv.weight 8192\n",
      "fc.weight 5120\n",
      "fc.bias 10\n"
     ]
    }
   ],
   "source": [
    "# get number of learnable parameters\n",
    "for name, param in model.named_parameters():\n",
    "    if param.requires_grad:\n",
    "        print(name, param.numel())"
   ]
  },
  {
   "cell_type": "code",
   "execution_count": 4,
   "metadata": {},
   "outputs": [
    {
     "name": "stdout",
     "output_type": "stream",
     "text": [
      "13331 parameters\n"
     ]
    }
   ],
   "source": [
    "# get number of learnable parameters\n",
    "total_params = sum(p.numel() for p in model.parameters())\n",
    "print(f'{total_params} parameters')"
   ]
  },
  {
   "cell_type": "code",
   "execution_count": 2,
   "metadata": {},
   "outputs": [
    {
     "data": {
      "image/png": "[encoded data removed]",
      "text/plain": [
       "<Figure size 640x480 with 32 Axes>"
      ]
     },
     "metadata": {},
     "output_type": "display_data"
    }
   ],
   "source": [
    "for i in range(32):\n",
    "    temp = model.conv.weight[i, 0].detach().cpu()[10].numpy()\n",
    "    temp = temp[temp != 0]\n",
    "    plt.subplot(4, 8, i+1)\n",
    "    plt.imshow(temp.reshape(3,3), cmap='gray')\n",
    "    plt.axis('off')\n",
    "plt.show()"
   ]
  },
  {
   "cell_type": "code",
   "execution_count": 4,
   "metadata": {},
   "outputs": [
    {
     "data": {
      "text/plain": [
       "<matplotlib.image.AxesImage at 0x749803613490>"
      ]
     },
     "execution_count": 4,
     "metadata": {},
     "output_type": "execute_result"
    },
    {
     "data": {
      "image/png": "[encoded data removed]",
      "text/plain": [
       "<Figure size 640x480 with 1 Axes>"
      ]
     },
     "metadata": {},
     "output_type": "display_data"
    }
   ],
   "source": [
    "plt.imshow(model.conv.weight[6, 0].detach().cpu())"
   ]
  },
  {
   "cell_type": "code",
   "execution_count": 11,
   "metadata": {},
   "outputs": [
    {
     "data": {
      "text/plain": [
       "Parameter containing:\n",
       "tensor([[0.4963, 0.7682, 0.0885],\n",
       "        [0.1320, 0.3074, 0.6341],\n",
       "        [0.4901, 0.8964, 0.4556]], device='cuda:0', requires_grad=True)"
      ]
     },
     "execution_count": 11,
     "metadata": {},
     "output_type": "execute_result"
    }
   ],
   "source": [
    "model.conv.kernel"
   ]
  },
  {
   "cell_type": "code",
   "execution_count": 14,
   "metadata": {},
   "outputs": [
    {
     "data": {
      "text/plain": [
       "array([-0.        , -0.        , -0.        ,  0.        ,  0.        ,\n",
       "        2.1905775 ,  0.7415802 ,  0.83530515, -0.        ,  0.7701138 ,\n",
       "        1.3515583 , -0.8627636 , -0.        ,  1.2783762 ,  1.4323219 ,\n",
       "        0.53974545], dtype=float32)"
      ]
     },
     "execution_count": 14,
     "metadata": {},
     "output_type": "execute_result"
    }
   ],
   "source": [
    "model.conv.weight[0, 0].detach().cpu().numpy()[10]"
   ]
  },
  {
   "cell_type": "code",
   "execution_count": 3,
   "metadata": {},
   "outputs": [
    {
     "data": {
      "image/png": "[encoded data removed]",
      "text/plain": [
       "<Figure size 640x480 with 1 Axes>"
      ]
     },
     "metadata": {},
     "output_type": "display_data"
    }
   ],
   "source": [
    "plt.imshow(model.conv.weight[0, 0].detach().cpu().numpy())\n",
    "plt.show()"
   ]
  },
  {
   "cell_type": "code",
   "execution_count": 5,
   "metadata": {},
   "outputs": [
    {
     "data": {
      "text/plain": [
       "<matplotlib.image.AxesImage at 0x7c0250aeb760>"
      ]
     },
     "execution_count": 5,
     "metadata": {},
     "output_type": "execute_result"
    },
    {
     "data": {
      "image/png": "[encoded data removed]",
      "text/plain": [
       "<Figure size 640x480 with 1 Axes>"
      ]
     },
     "metadata": {},
     "output_type": "display_data"
    }
   ],
   "source": [
    "# set random seed\n",
    "torch.manual_seed(0)\n",
    "torch.cuda.manual_seed(0)\n",
    "\n",
    "temp = SparseCNN(1, 10)\n",
    "temp.cuda()\n",
    "temp.conv._mask_weights()\n",
    "plt.imshow(temp.conv.weight.data[0, 0].cpu().numpy())"
   ]
  },
  {
   "cell_type": "code",
   "execution_count": 3,
   "metadata": {},
   "outputs": [],
   "source": [
    "import torch\n",
    "\n",
    "class BlockSparseMatrix(torch.autograd.Function):\n",
    "    def __init__(self, blocks, block_size, shape):\n",
    "        self.blocks = blocks  # Dictionary of non-empty blocks\n",
    "        self.block_size = block_size\n",
    "        self.shape = shape\n",
    "    \n",
    "    def to_dense(self):\n",
    "        \"\"\"Convert the block-based sparse matrix into a full dense matrix.\"\"\"\n",
    "        dense_matrix = torch.zeros(self.shape)\n",
    "        for (row, col), block in self.blocks.items():\n",
    "            r_start, r_end = row * self.block_size, (row + 1) * self.block_size\n",
    "            c_start, c_end = col * self.block_size, (col + 1) * self.block_size\n",
    "            dense_matrix[r_start:r_end, c_start:c_end] = block\n",
    "        return dense_matrix\n"
   ]
  },
  {
   "cell_type": "code",
   "execution_count": 4,
   "metadata": {},
   "outputs": [],
   "source": [
    "class BlockSparseMatrixAutograd(torch.autograd.Function):\n",
    "    @staticmethod\n",
    "    def forward(ctx, blocks, block_indices, block_size, vector):\n",
    "        \"\"\"Forward pass for block sparse matrix multiplication.\"\"\"\n",
    "        ctx.save_for_backward(blocks, block_indices, block_size, vector)\n",
    "        result = torch.zeros(vector.shape[0])\n",
    "        \n",
    "        # Iterate over each block\n",
    "        for (row, col), block in blocks.items():\n",
    "            r_start, r_end = row * block_size, (row + 1) * block_size\n",
    "            c_start, c_end = col * block_size, (col + 1) * block_size\n",
    "            \n",
    "            result[r_start:r_end] += block @ vector[c_start:c_end]\n",
    "        \n",
    "        return result\n",
    "\n",
    "    @staticmethod\n",
    "    def backward(ctx, grad_output):\n",
    "        \"\"\"Backward pass to propagate the gradient.\"\"\"\n",
    "        blocks, block_indices, block_size, vector = ctx.saved_tensors\n",
    "        \n",
    "        # Initialize gradients\n",
    "        grad_blocks = {}\n",
    "        grad_vector = torch.zeros_like(vector)\n",
    "        \n",
    "        # Compute gradients for each block\n",
    "        for (row, col), block in blocks.items():\n",
    "            r_start, r_end = row * block_size, (row + 1) * block_size\n",
    "            c_start, c_end = col * block_size, (col + 1) * block_size\n",
    "            \n",
    "            # Gradient for block\n",
    "            grad_blocks[(row, col)] = grad_output[r_start:r_end].unsqueeze(1) @ vector[c_start:c_end].unsqueeze(0)\n",
    "            \n",
    "            # Gradient for vector\n",
    "            grad_vector[c_start:c_end] += block.T @ grad_output[r_start:r_end]\n",
    "        \n",
    "        return grad_blocks, None, None, grad_vector\n"
   ]
  },
  {
   "cell_type": "code",
   "execution_count": 5,
   "metadata": {},
   "outputs": [
    {
     "ename": "TypeError",
     "evalue": "save_for_backward can only save variables, but argument 0 is of type dict",
     "output_type": "error",
     "traceback": [
      "\u001b[0;31m---------------------------------------------------------------------------\u001b[0m",
      "\u001b[0;31mTypeError\u001b[0m                                 Traceback (most recent call last)",
      "Cell \u001b[0;32mIn[5], line 12\u001b[0m\n\u001b[1;32m      9\u001b[0m vector \u001b[38;5;241m=\u001b[39m torch\u001b[38;5;241m.\u001b[39mrandn(\u001b[38;5;241m8\u001b[39m, requires_grad\u001b[38;5;241m=\u001b[39m\u001b[38;5;28;01mTrue\u001b[39;00m)\n\u001b[1;32m     11\u001b[0m \u001b[38;5;66;03m# Using the block-based sparse matrix for matrix-vector multiplication\u001b[39;00m\n\u001b[0;32m---> 12\u001b[0m result \u001b[38;5;241m=\u001b[39m \u001b[43mBlockSparseMatrixAutograd\u001b[49m\u001b[38;5;241;43m.\u001b[39;49m\u001b[43mapply\u001b[49m\u001b[43m(\u001b[49m\u001b[43mblocks\u001b[49m\u001b[43m,\u001b[49m\u001b[43m \u001b[49m\u001b[43mblock_indices\u001b[49m\u001b[43m,\u001b[49m\u001b[43m \u001b[49m\u001b[43mblock_size\u001b[49m\u001b[43m,\u001b[49m\u001b[43m \u001b[49m\u001b[43mvector\u001b[49m\u001b[43m)\u001b[49m\n\u001b[1;32m     13\u001b[0m result\u001b[38;5;241m.\u001b[39mbackward(torch\u001b[38;5;241m.\u001b[39mones_like(result))\n\u001b[1;32m     15\u001b[0m \u001b[38;5;66;03m# Check gradients\u001b[39;00m\n",
      "File \u001b[0;32m~/.local/lib/python3.10/site-packages/torch/autograd/function.py:506\u001b[0m, in \u001b[0;36mFunction.apply\u001b[0;34m(cls, *args, **kwargs)\u001b[0m\n\u001b[1;32m    503\u001b[0m \u001b[38;5;28;01mif\u001b[39;00m \u001b[38;5;129;01mnot\u001b[39;00m torch\u001b[38;5;241m.\u001b[39m_C\u001b[38;5;241m.\u001b[39m_are_functorch_transforms_active():\n\u001b[1;32m    504\u001b[0m     \u001b[38;5;66;03m# See NOTE: [functorch vjp and autograd interaction]\u001b[39;00m\n\u001b[1;32m    505\u001b[0m     args \u001b[38;5;241m=\u001b[39m _functorch\u001b[38;5;241m.\u001b[39mutils\u001b[38;5;241m.\u001b[39munwrap_dead_wrappers(args)\n\u001b[0;32m--> 506\u001b[0m     \u001b[38;5;28;01mreturn\u001b[39;00m \u001b[38;5;28;43msuper\u001b[39;49m\u001b[43m(\u001b[49m\u001b[43m)\u001b[49m\u001b[38;5;241;43m.\u001b[39;49m\u001b[43mapply\u001b[49m\u001b[43m(\u001b[49m\u001b[38;5;241;43m*\u001b[39;49m\u001b[43margs\u001b[49m\u001b[43m,\u001b[49m\u001b[43m \u001b[49m\u001b[38;5;241;43m*\u001b[39;49m\u001b[38;5;241;43m*\u001b[39;49m\u001b[43mkwargs\u001b[49m\u001b[43m)\u001b[49m  \u001b[38;5;66;03m# type: ignore[misc]\u001b[39;00m\n\u001b[1;32m    508\u001b[0m \u001b[38;5;28;01mif\u001b[39;00m \u001b[38;5;28mcls\u001b[39m\u001b[38;5;241m.\u001b[39msetup_context \u001b[38;5;241m==\u001b[39m _SingleLevelFunction\u001b[38;5;241m.\u001b[39msetup_context:\n\u001b[1;32m    509\u001b[0m     \u001b[38;5;28;01mraise\u001b[39;00m \u001b[38;5;167;01mRuntimeError\u001b[39;00m(\n\u001b[1;32m    510\u001b[0m         \u001b[38;5;124m'\u001b[39m\u001b[38;5;124mIn order to use an autograd.Function with functorch transforms \u001b[39m\u001b[38;5;124m'\u001b[39m\n\u001b[1;32m    511\u001b[0m         \u001b[38;5;124m'\u001b[39m\u001b[38;5;124m(vmap, grad, jvp, jacrev, ...), it must override the setup_context \u001b[39m\u001b[38;5;124m'\u001b[39m\n\u001b[1;32m    512\u001b[0m         \u001b[38;5;124m'\u001b[39m\u001b[38;5;124mstaticmethod. For more details, please see \u001b[39m\u001b[38;5;124m'\u001b[39m\n\u001b[1;32m    513\u001b[0m         \u001b[38;5;124m'\u001b[39m\u001b[38;5;124mhttps://pytorch.org/docs/master/notes/extending.func.html\u001b[39m\u001b[38;5;124m'\u001b[39m)\n",
      "\u001b[0;31mTypeError\u001b[0m: save_for_backward can only save variables, but argument 0 is of type dict"
     ]
    }
   ],
   "source": [
    "blocks = {\n",
    "    (0, 0): torch.randn(4, 4, requires_grad=True),\n",
    "    (1, 0): torch.randn(4, 4, requires_grad=True),\n",
    "    (1, 1): torch.randn(4, 4, requires_grad=True)\n",
    "}\n",
    "\n",
    "block_indices = [(0, 0), (1, 0), (1, 1)]\n",
    "block_size = 4\n",
    "vector = torch.randn(8, requires_grad=True)\n",
    "\n",
    "# Using the block-based sparse matrix for matrix-vector multiplication\n",
    "result = BlockSparseMatrixAutograd.apply(blocks, block_indices, block_size, vector)\n",
    "result.backward(torch.ones_like(result))\n",
    "\n",
    "# Check gradients\n",
    "print(blocks[(0, 0)].grad)\n",
    "print(vector.grad)\n"
   ]
  },
  {
   "cell_type": "code",
   "execution_count": 1,
   "metadata": {},
   "outputs": [
    {
     "name": "stderr",
     "output_type": "stream",
     "text": [
      "/home/hesam/miniconda3/lib/python3.11/site-packages/torch/nn/modules/lazy.py:180: UserWarning: Lazy modules are a new feature under heavy development so changes to the API or functionality can happen at any moment.\n",
      "  warnings.warn('Lazy modules are a new feature under heavy development '\n"
     ]
    },
    {
     "name": "stdout",
     "output_type": "stream",
     "text": [
      "loss: 1.5501701831817627, accuracy: 81.71%, time: 28.30s\n",
      "loss: 3.2725276947021484, accuracy: 84.15%, time: 28.21s\n",
      "loss: 1.9858423471450806, accuracy: 85.38%, time: 28.40s\n",
      "loss: 1.385349154472351, accuracy: 86.19%, time: 27.88s\n",
      "loss: 1.875110387802124, accuracy: 86.82%, time: 27.99s\n",
      "loss: 0.8600005507469177, accuracy: 87.32%, time: 27.95s\n",
      "loss: 1.0058120489120483, accuracy: 87.66%, time: 27.72s\n",
      "loss: 0.35432708263397217, accuracy: 87.97%, time: 28.09s\n",
      "loss: 1.5728849172592163, accuracy: 88.30%, time: 28.48s\n",
      "loss: 3.0018248558044434, accuracy: 88.52%, time: 28.67s\n",
      "loss: 1.82009756565094, accuracy: 88.73%, time: 28.49s\n",
      "loss: 0.6282989382743835, accuracy: 88.94%, time: 28.63s\n",
      "loss: 2.0359387397766113, accuracy: 89.13%, time: 28.21s\n",
      "loss: 11.39993667602539, accuracy: 89.28%, time: 28.21s\n",
      "loss: 0.43373867869377136, accuracy: 89.43%, time: 28.23s\n",
      "loss: 4.986561298370361, accuracy: 89.58%, time: 28.27s\n",
      "loss: 5.1664814949035645, accuracy: 89.71%, time: 28.22s\n",
      "loss: 1.5063667297363281, accuracy: 89.83%, time: 28.00s\n",
      "loss: 0.3355414867401123, accuracy: 89.94%, time: 28.29s\n",
      "loss: 0.03282783553004265, accuracy: 90.05%, time: 28.34s\n",
      "Accuracy: 93.5%\n"
     ]
    },
    {
     "data": {
      "image/png": "[encoded data removed]",
      "text/plain": [
       "<Figure size 640x480 with 1 Axes>"
      ]
     },
     "metadata": {},
     "output_type": "display_data"
    }
   ],
   "source": [
    "import time\n",
    "import torch\n",
    "import torch.nn as nn\n",
    "import torchvision as tv\n",
    "from torchvision import datasets, transforms\n",
    "from torch.utils.data import DataLoader, default_collate\n",
    "import matplotlib.pyplot as plt\n",
    "import random\n",
    "from gcn.gnn import BlockSparseCNN\n",
    "\n",
    "\n",
    "# set random seed\n",
    "random.seed(0)\n",
    "torch.manual_seed(0)\n",
    "torch.cuda.manual_seed(0)\n",
    "\n",
    "\n",
    "device = torch.device('cuda' if torch.cuda.is_available() else 'cpu')\n",
    "\n",
    "image_size = (28, 28)\n",
    "\n",
    "transform = transforms.Compose([transforms.ToTensor(), transforms.Normalize((0.1307,), (0.3081,)), transforms.Resize(image_size, antialias=True)])\n",
    "dataset = tv.datasets.MNIST('./data', train=True, download=True, transform=transform)\n",
    "loader = DataLoader(dataset, batch_size=32, shuffle=True)\n",
    "\n",
    "\n",
    "model = BlockSparseCNN(1, 10)\n",
    "\n",
    "if torch.cuda.is_available():\n",
    "    model.cuda()\n",
    "\n",
    "\n",
    "criteria = nn.CrossEntropyLoss()\n",
    "optimizer = torch.optim.Adam(model.parameters(), lr=0.01)\n",
    "\n",
    "model = model.cuda()\n",
    "\n",
    "correct = 0\n",
    "total = 0\n",
    "\n",
    "\n",
    "for i in range(20):\n",
    "    start = time.time()\n",
    "    for image, label in loader:\n",
    "        image = image.cuda()\n",
    "        label = label.cuda()\n",
    "        optimizer.zero_grad()\n",
    "        output = model(image)\n",
    "        loss = criteria(output, label)\n",
    "        loss.backward()\n",
    "        optimizer.step()\n",
    "        _, predicted = torch.max(output, 1)\n",
    "        total += label.size(0)\n",
    "        correct += (predicted == label).sum().item()\n",
    "\n",
    "    print(f'loss: {loss.item()}, accuracy: {correct/total*100:.2f}%, time: {time.time()-start:.2f}s')\n",
    "\n",
    "\n",
    "dataset = tv.datasets.MNIST('./data', train=False, download=True, transform=transform)\n",
    "loader = DataLoader(dataset, batch_size=32, shuffle=True)\n",
    "\n",
    "model.eval()\n",
    "\n",
    "correct = 0\n",
    "total = 0\n",
    "with torch.no_grad():\n",
    "    for image, label in loader:\n",
    "        image = image.cuda()\n",
    "        label = label.cuda()\n",
    "        output = model(image)\n",
    "        _, predicted = torch.max(output, 1)\n",
    "        total += label.size(0)\n",
    "        correct += (predicted == label).sum().item()\n",
    "\n",
    "print(f'Accuracy: {correct/total*100}%')\n",
    "plt.imshow(model.conv.coeff.to_dense()[0, 0].detach().cpu().numpy())\n",
    "plt.show()\n",
    "\n",
    "# save model\n",
    "torch.save(model.state_dict(), 'block_sparse_model_28.pth')"
   ]
  }
 ],
 "metadata": {
  "kernelspec": {
   "display_name": "Python 3",
   "language": "python",
   "name": "python3"
  },
  "language_info": {
   "codemirror_mode": {
    "name": "ipython",
    "version": 3
   },
   "file_extension": ".py",
   "mimetype": "text/x-python",
   "name": "python",
   "nbconvert_exporter": "python",
   "pygments_lexer": "ipython3",
   "version": "3.10.13"
  }
 },
 "nbformat": 4,
 "nbformat_minor": 2
}
